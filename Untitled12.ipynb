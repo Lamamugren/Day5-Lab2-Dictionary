{
 "cells": [
  {
   "cell_type": "code",
   "execution_count": 3,
   "id": "10ec5a40",
   "metadata": {},
   "outputs": [
    {
     "name": "stdout",
     "output_type": "stream",
     "text": [
      "enter number1111111111\n",
      "The owner of the number is Amal\n"
     ]
    }
   ],
   "source": [
    "import re\n",
    "\n",
    "phone_book = {\n",
    "    \"1111111111\": \"Amal\",\n",
    "    \"2222222222\": \"Mohammed\",\n",
    "    \"3333333333\": \"Khadijah\",\n",
    "    \"4444444444\": \"Abdullah\",\n",
    "    \"5555555555\": \"Rawan\",\n",
    "    \"6666666666\": \"Faisal\",\n",
    "    \"7777777777\": \"Layla\"\n",
    "}\n",
    "\n",
    "def find_owner(number):\n",
    "    if not re.match(r\"^\\d{10}$\", number):\n",
    "        print(\"This is invalid number\")\n",
    "    elif number in phone_book:\n",
    "        print(\"The owner of the number is\", phone_book[number])\n",
    "    else:\n",
    "        print(\"Sorry, the number is not found.\")\n",
    "x= input(\"enter number\")   \n",
    "find_owner(x)"
   ]
  },
  {
   "cell_type": "code",
   "execution_count": null,
   "id": "f69f6177",
   "metadata": {},
   "outputs": [],
   "source": []
  }
 ],
 "metadata": {
  "kernelspec": {
   "display_name": "Python 3 (ipykernel)",
   "language": "python",
   "name": "python3"
  },
  "language_info": {
   "codemirror_mode": {
    "name": "ipython",
    "version": 3
   },
   "file_extension": ".py",
   "mimetype": "text/x-python",
   "name": "python",
   "nbconvert_exporter": "python",
   "pygments_lexer": "ipython3",
   "version": "3.9.13"
  }
 },
 "nbformat": 4,
 "nbformat_minor": 5
}
